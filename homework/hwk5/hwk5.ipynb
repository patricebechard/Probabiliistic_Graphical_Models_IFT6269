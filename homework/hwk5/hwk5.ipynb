{
 "cells": [
  {
   "cell_type": "markdown",
   "metadata": {},
   "source": [
    "## IFT6269 - Homework 5 - Number 2\n",
    "\n",
    "#### Gibbs sampling and mean field variational inference\n",
    "\n",
    "We consider the Ising model with binary variables $X_s \\in \\{0,1\\}$ and a factorization of the form:\n",
    "\n",
    "$$ p(x;\\eta) = \\frac{1}{Z_p} \\exp \\left( \\sum_{s \\in V} \\eta_s x_s + \\sum_{\\{s,t\\} \\in E} \\eta_{st} x_s x_t \\right) $$\n",
    "\n",
    "We also consider the $7 \\times 7$ 2D grid as shown here :\n",
    "\n",
    "<img src=\"https://i.imgur.com/hvxEFjs.png\" alt=\"Drawing\" style=\"width: 250px;\"/>\n",
    "\n",
    "We will consider approximate inference methods to approximate the node marginal moments $\\mu_s := p(X_s = 1)$ in this model.\n",
    "\n",
    "Below is an implementation of the Gibbs sampling updates and the naife mean field updates for the model. Refer to the paper document for the derivation of both updates.\n"
   ]
  },
  {
   "cell_type": "code",
   "execution_count": 392,
   "metadata": {},
   "outputs": [
    {
     "data": {
      "text/plain": [
       "'\\nAuthor : Patrice Bechard\\nE-mail : bechardpatrice@gmail.com\\nDate created : November 23, 2017\\n'"
      ]
     },
     "execution_count": 392,
     "metadata": {},
     "output_type": "execute_result"
    }
   ],
   "source": [
    "#!/usr/bin/python\n",
    "# -*- coding: utf-8 -*-\n",
    "\"\"\"\n",
    "Author : Patrice Bechard\n",
    "E-mail : bechardpatrice@gmail.com\n",
    "Date created : November 23, 2017\n",
    "\"\"\""
   ]
  },
  {
   "cell_type": "code",
   "execution_count": 393,
   "metadata": {},
   "outputs": [
    {
     "name": "stdout",
     "output_type": "stream",
     "text": [
      "Populating the interactive namespace from numpy and matplotlib\n"
     ]
    }
   ],
   "source": [
    "# importing modules\n",
    "\n",
    "%pylab inline\n",
    "%config IPCompleter.greedy=True #enable autocomplete\n",
    "import numpy as np\n",
    "import matplotlib.pyplot as plt\n",
    "import sys"
   ]
  },
  {
   "cell_type": "code",
   "execution_count": 394,
   "metadata": {
    "collapsed": true
   },
   "outputs": [],
   "source": [
    "class IsingGibbs:\n",
    "    \n",
    "    def __init__(self, grid_dims):    \n",
    "        \"\"\"\n",
    "        Parameters\n",
    "        ----------\n",
    "        grid_dims : array-like, [nx, ny]\n",
    "            dimensions of the grid\n",
    "        \"\"\"\n",
    "        \n",
    "        self.grid_dims = grid_dims\n",
    "        self.n_nodes = np.prod(grid_dims)\n",
    "        \n",
    "        self.grid = np.zeros(self.grid_dims)\n",
    "        \n",
    "        self.eta_nodes = np.array([(-1.)**s for s in range(self.n_nodes)])\n",
    "        self.eta_nodes = np.reshape(self.eta_nodes, self.grid_dims)\n",
    "        self.eta_edges = 0.5                # same for all edges   \n",
    "        \n",
    "    def _random_init_grid(self):\n",
    "        \"\"\" Initializing grid randomly \"\"\"\n",
    "        self.grid = np.random.randint(2, size=self.grid_dims).astype('float32')\n",
    "\n",
    "    def _gibbs_sampling_epoch(self):\n",
    "        \"\"\" \n",
    "        Updating each node of the model once using a Gibbs sampling approach\n",
    "        \"\"\"\n",
    "        \n",
    "        for i in range(self.grid_dims[0]):\n",
    "            for j in range(self.grid_dims[1]):\n",
    "            \n",
    "                node_contrib = self.eta_nodes[i,j]\n",
    "            \n",
    "                neighbors = np.array([[i-1, j],\n",
    "                                     [(i+1)%self.grid_dims[0], j],\n",
    "                                     [i, j-1],\n",
    "                                     [i, (j+1)%self.grid_dims[1]]])\n",
    "                \n",
    "                neighbors_contrib = self.eta_edges * sum([self.grid[k[0],k[1]] \n",
    "                                                          for k in neighbors])\n",
    "\n",
    "                prob = sigmoid(node_contrib + neighbors_contrib)\n",
    "\n",
    "                if np.random.random() < prob:\n",
    "                    self.grid[i,j] = 1\n",
    "                else:\n",
    "                    self.grid[i,j] = 0\n",
    "\n",
    "    def gibbs_sampling(self, n_burn_in_epochs, n_epochs, n_rep_stddev):\n",
    "        \"\"\"\n",
    "        Updating the model to find the mean estimate and its variance \n",
    "        for each node\n",
    "        \n",
    "        Parameters\n",
    "        ----------\n",
    "        n_burn_in_epochs: int\n",
    "            number of epochs for which we perform burn-in\n",
    "        n_epochs: int\n",
    "            number of epochs for which we collect a sample vector\n",
    "            to compute the mean Monte Carlo estimate\n",
    "        n_rep_stddev: int\n",
    "            number of times we repeat the inference using Gibbs Sampling\n",
    "            to have an estimate of the standard deviation of our estimates\n",
    "        \"\"\"\n",
    "        \n",
    "        for rep in range(n_rep_stddev):\n",
    "\n",
    "            #initialize grid randomly\n",
    "            self._random_init_grid()\n",
    "            \n",
    "            # burn-in\n",
    "            for epoch in range(n_burn_in_epochs):\n",
    "                self._gibbs_sampling_epoch()\n",
    "\n",
    "            collection = np.array([])\n",
    "            \n",
    "            # sampling\n",
    "            for epoch in range(n_epochs):\n",
    "                \n",
    "                self._gibbs_sampling_epoch()\n",
    "\n",
    "                if epoch == 0:\n",
    "                    collection = np.expand_dims(self.grid, axis=0)\n",
    "                else:\n",
    "                    collected_sample = np.expand_dims(self.grid, axis=0)\n",
    "                    collection = np.append(collection, \n",
    "                                           collected_sample, \n",
    "                                           axis=0)\n",
    "\n",
    "            mean_estimate = np.sum(collection, axis=0) / n_epochs\n",
    "\n",
    "            if rep == 0:\n",
    "                mean_collection = np.expand_dims(mean_estimate, axis=0)\n",
    "            else:\n",
    "                mean_collection = np.append(mean_collection,\n",
    "                                            np.expand_dims(mean_estimate, axis=0),\n",
    "                                            axis=0)\n",
    "        \n",
    "        stddev_estimate = np.std(mean_collection, axis=0)\n",
    "        \n",
    "        np.savetxt('latex/data/mean_grid_gibbs.txt', mean_estimate, fmt='%.4e')\n",
    "        np.savetxt('latex/data/stddev_grid_gibbs.txt', stddev_estimate, fmt='%.4e')\n",
    "        \n",
    "        print(\"Mean estimate for Gibbs sampling:\")\n",
    "        print(mean_estimate)\n",
    "        plt.imshow(mean_estimate, cmap='viridis', vmin=0., vmax=1.)\n",
    "        plt.colorbar(orientation='vertical')\n",
    "        plt.savefig('latex/figures/mean_gibbs.png')\n",
    "        plt.show()\n",
    "        plt.clf()\n",
    "\n",
    "        print(\"Standard deviation estimate for Gibbs sampling:\")\n",
    "        print(stddev_estimate)\n",
    "        plt.imshow(stddev_estimate, cmap='viridis')\n",
    "        plt.colorbar(orientation='vertical')\n",
    "        plt.savefig('latex/figures/stddev_gibbs.png')\n",
    "        plt.show()\n",
    "        plt.clf()\n",
    "        \n",
    "        return mean_estimate\n",
    "        "
   ]
  },
  {
   "cell_type": "code",
   "execution_count": 395,
   "metadata": {},
   "outputs": [],
   "source": [
    "class IsingMeanField:\n",
    "    \n",
    "    def __init__(self, grid_dims):\n",
    "        \"\"\"\n",
    "        Parameters\n",
    "        ----------\n",
    "        grid_dims : array-like, [nx, ny]\n",
    "            dimensions of the grid\n",
    "        \"\"\"\n",
    "        \n",
    "        self.grid_dims = grid_dims\n",
    "        self.n_nodes = np.prod(grid_dims)\n",
    "        \n",
    "        self.grid = np.zeros(self.grid_dims)\n",
    "        \n",
    "        self.eta_nodes = np.array([(-1.)**s for s in range(self.n_nodes)])\n",
    "        self.eta_nodes = np.reshape(self.eta_nodes, self.grid_dims)\n",
    "        self.eta_edges = 0.5                # same for all edges   \n",
    "    \n",
    "    def _random_init_grid(self):\n",
    "        \"\"\" Initializing grid randomly \"\"\"\n",
    "        self.grid = np.random.random(size=self.grid_dims)\n",
    "    \n",
    "    def _mean_field_epoch(self):\n",
    "        \"\"\" \n",
    "        Updating grid for all nodes once using a variational inference approach\n",
    "        \"\"\"\n",
    "        \n",
    "        for i in range(self.grid_dims[0]):\n",
    "            for j in range(self.grid_dims[1]):\n",
    "            \n",
    "                node_contrib = self.eta_nodes[i,j]\n",
    "            \n",
    "                neighbors = np.array([[i-1, j],\n",
    "                                     [(i+1)%self.grid_dims[0], j],\n",
    "                                     [i, j-1],\n",
    "                                     [i, (j+1)%self.grid_dims[1]]])\n",
    "\n",
    "                neighbors_contrib = self.eta_edges * sum([self.grid[k[0],k[1]] \n",
    "                                                          for k in neighbors])\n",
    "\n",
    "                self.grid[i,j] = sigmoid(node_contrib + neighbors_contrib)\n",
    "    \n",
    "    def mean_field(self, n_rep, stopping_criterion = 0.001):\n",
    "        \"\"\" \n",
    "        Updating grid until convergence and \n",
    "        plotting evolution of KL divergence \n",
    "        \n",
    "        Parameters\n",
    "        ----------\n",
    "        n_rep : int\n",
    "            number of times we initialize a new grid to perform\n",
    "            variational inference on.\n",
    "        stopping_criterion : float\n",
    "            convergence criterion for the L1 distance between\n",
    "            two successive grids after one epoch\n",
    "        \"\"\"\n",
    "        \n",
    "        for rep in range(n_rep):\n",
    "            \n",
    "            self._random_init_grid()\n",
    "            kl_values = np.array([self.kl_divergence()])\n",
    "            \n",
    "            old_grid = np.ones_like(self.grid) * 1e9     #dummy value\n",
    "\n",
    "            while l1_distance(self.grid, old_grid) > stopping_criterion:\n",
    "\n",
    "                old_grid = np.copy(self.grid)\n",
    "\n",
    "                # updating grid\n",
    "                self._mean_field_epoch()\n",
    "\n",
    "                # computing current kl divergence and appending to kl array\n",
    "                kl_values = np.append(kl_values, self.kl_divergence())\n",
    "\n",
    "            print(np.arange(len(kl_values)))\n",
    "            plt.plot(np.arange(len(kl_values)), kl_values)\n",
    "            \n",
    "            if rep == 0:\n",
    "                mean_collection = np.expand_dims(self.grid, axis=0)\n",
    "            else:\n",
    "                mean_collection = np.append(mean_collection,\n",
    "                                            np.expand_dims(self.grid, axis=0),\n",
    "                                            axis=0)\n",
    "        \n",
    "        stddev_estimate = np.std(mean_collection, axis=0)\n",
    "        \n",
    "        np.savetxt('latex/data/mean_grid_mean_field.txt', self.grid, fmt='%.4e')\n",
    "        np.savetxt('latex/data/stddev_grid_mean_field.txt', stddev_estimate, fmt='%.4e')\n",
    "        \n",
    "        print(\"KL divergence for mean field:\")\n",
    "        plt.xlabel('# of epoch')\n",
    "        plt.ylabel('KL divergence')\n",
    "        plt.savefig('latex/figures/kl_div_mean_field.png')\n",
    "        plt.show()\n",
    "        plt.clf()\n",
    "\n",
    "        print(\"Mean estimate for mean field :\")\n",
    "        print(self.grid)\n",
    "        plt.imshow(self.grid, cmap='viridis', vmin=0., vmax=1.)\n",
    "        plt.colorbar(orientation='vertical')\n",
    "        plt.savefig('latex/figures/grid_mean_field.png')\n",
    "        plt.show()\n",
    "        plt.clf()   \n",
    "        \n",
    "        print(\"Standard deviation estimate for mean field:\")\n",
    "        print(stddev_estimate)\n",
    "        plt.imshow(stddev_estimate, cmap='viridis')\n",
    "        plt.colorbar(orientation='vertical')\n",
    "        plt.savefig('latex/figures/stddev_mean_field.png')\n",
    "        plt.show()\n",
    "        plt.clf()\n",
    "        \n",
    "        return self.grid\n",
    "        \n",
    "    def kl_divergence(self):\n",
    "        \"\"\" Computing KL(q||p) - log(Zp)\"\"\"\n",
    "        \n",
    "        # q log q terms\n",
    "        q_log_q_term = np.sum(self.grid * np.log(self.grid) + \\\n",
    "                              (1-self.grid) * np.log(1-self.grid))\n",
    "\n",
    "        # nodes term\n",
    "        nodes_term = np.sum(self.eta_nodes * self.grid)\n",
    "        \n",
    "        #edges term\n",
    "        edges_term = 0\n",
    "        for i in range(self.grid_dims[0]):\n",
    "            for j in range(self.grid_dims[1]):\n",
    "\n",
    "                neighbors = np.array([[i-1, j],\n",
    "                                     [(i+1)%self.grid_dims[0], j],\n",
    "                                     [i, j-1],\n",
    "                                     [i, (j+1)%self.grid_dims[1]]])\n",
    "                \n",
    "                edges_term += self.grid[i,j] * sum([self.grid[k[0],k[1]] for k in neighbors])\n",
    "                \n",
    "        edges_term *= (self.eta_edges / 2)\n",
    "        \n",
    "        return  q_log_q_term - nodes_term - edges_term\n",
    "        \n",
    "        "
   ]
  },
  {
   "cell_type": "code",
   "execution_count": 396,
   "metadata": {
    "collapsed": true
   },
   "outputs": [],
   "source": [
    "def sigmoid(x):\n",
    "    return 1 / (1 + np.exp(-x))"
   ]
  },
  {
   "cell_type": "code",
   "execution_count": 397,
   "metadata": {
    "collapsed": true
   },
   "outputs": [],
   "source": [
    "def l1_distance(x,y):\n",
    "    return np.mean(np.abs(x-y))"
   ]
  },
  {
   "cell_type": "code",
   "execution_count": 398,
   "metadata": {},
   "outputs": [
    {
     "name": "stdout",
     "output_type": "stream",
     "text": [
      "Mean estimate for Gibbs sampling:\n",
      "[[ 0.93440002  0.67820001  0.92439997  0.67900002  0.921       0.66420001\n",
      "   0.92940003]\n",
      " [ 0.66439998  0.90439999  0.69379997  0.89819998  0.68660003  0.90799999\n",
      "   0.68000001]\n",
      " [ 0.91540003  0.69419998  0.9066      0.68199998  0.91479999  0.69919997\n",
      "   0.9138    ]\n",
      " [ 0.66280001  0.90579998  0.68739998  0.90880001  0.68440002  0.90719998\n",
      "   0.66860002]\n",
      " [ 0.91180003  0.70120001  0.90640002  0.68879998  0.90399998  0.67619997\n",
      "   0.91360003]\n",
      " [ 0.65259999  0.9052      0.69379997  0.9102      0.68919998  0.8994\n",
      "   0.66479999]\n",
      " [ 0.93019998  0.68440002  0.91839999  0.67079997  0.91860002  0.68260002\n",
      "   0.92460001]]\n"
     ]
    },
    {
     "data": {
      "image/png": "[encoded data removed]",
      "text/plain": [
       "<matplotlib.figure.Figure at 0x113ca85c0>"
      ]
     },
     "metadata": {},
     "output_type": "display_data"
    },
    {
     "name": "stdout",
     "output_type": "stream",
     "text": [
      "Standard deviation estimate for Gibbs sampling:\n",
      "[[ 0.00428155  0.00646047  0.00513657  0.00722397  0.00494001  0.00606265\n",
      "   0.00330268]\n",
      " [ 0.0076515   0.00499279  0.0067953   0.00425206  0.0073663   0.00321901\n",
      "   0.00701053]\n",
      " [ 0.00540725  0.00734835  0.00323611  0.00688422  0.00497448  0.00509387\n",
      "   0.00330841]\n",
      " [ 0.00749135  0.00331203  0.00623156  0.00408808  0.00573969  0.0028786\n",
      "   0.00797649]\n",
      " [ 0.00338023  0.00784369  0.00511238  0.00503444  0.00602358  0.00746127\n",
      "   0.00509729]\n",
      " [ 0.0059223   0.00297348  0.00762859  0.00169941  0.00462987  0.00325729\n",
      "   0.00605603]\n",
      " [ 0.00389363  0.00639513  0.00187788  0.00685962  0.00292467  0.00863074\n",
      "   0.00253299]]\n"
     ]
    },
    {
     "data": {
      "image/png": "[encoded data removed]",
      "text/plain": [
       "<matplotlib.figure.Figure at 0x113c474a8>"
      ]
     },
     "metadata": {},
     "output_type": "display_data"
    },
    {
     "name": "stdout",
     "output_type": "stream",
     "text": [
      "[0 1 2 3 4 5]\n",
      "[0 1 2 3 4 5]\n",
      "[0 1 2 3 4]\n",
      "[0 1 2 3 4 5]\n",
      "[0 1 2 3 4 5]\n",
      "[0 1 2 3 4]\n",
      "[0 1 2 3 4]\n",
      "[0 1 2 3 4 5]\n",
      "[0 1 2 3 4 5]\n",
      "[0 1 2 3 4]\n",
      "KL divergence for mean field:\n"
     ]
    },
    {
     "data": {
      "image/png": "[encoded data removed]",
      "text/plain": [
       "<matplotlib.figure.Figure at 0x113cbbd30>"
      ]
     },
     "metadata": {},
     "output_type": "display_data"
    },
    {
     "name": "stdout",
     "output_type": "stream",
     "text": [
      "Mean estimate for mean field :\n",
      "[[ 0.93098786  0.67246631  0.92267997  0.6715609   0.92277805  0.67260535\n",
      "   0.93108453]\n",
      " [ 0.67258553  0.91428599  0.69712549  0.91528965  0.69715971  0.91445567\n",
      "   0.67269988]\n",
      " [ 0.92267925  0.69708718  0.91624918  0.6966458   0.91628036  0.69724886\n",
      "   0.92285572]\n",
      " [ 0.67148279  0.91528094  0.69662526  0.91618236  0.6967089   0.91532097\n",
      "   0.67175609]\n",
      " [ 0.9227789   0.69713827  0.9162036   0.69668824  0.91626095  0.6972292\n",
      "   0.92287875]\n",
      " [ 0.67261153  0.91439489  0.69720716  0.91531918  0.69723194  0.91448729\n",
      "   0.67272317]\n",
      " [ 0.93107253  0.67266346  0.92285323  0.67176729  0.9228788   0.6727225\n",
      "   0.93110583]]\n"
     ]
    },
    {
     "data": {
      "image/png": "[encoded data removed]",
      "text/plain": [
       "<matplotlib.figure.Figure at 0x1142aecf8>"
      ]
     },
     "metadata": {},
     "output_type": "display_data"
    },
    {
     "name": "stdout",
     "output_type": "stream",
     "text": [
      "Standard deviation estimate for mean field:\n",
      "[[  8.51757305e-05   1.19774069e-04   7.70085985e-05   9.28970125e-05\n",
      "    6.27004417e-05   5.66267740e-05   1.36181142e-05]\n",
      " [  1.07083138e-04   8.24479198e-05   5.99929428e-05   7.82983463e-05\n",
      "    7.00574265e-05   3.41203343e-05   2.42668499e-05]\n",
      " [  8.05369001e-05   7.42725695e-05   7.35172658e-05   8.15633503e-05\n",
      "    4.82220290e-05   2.88099984e-05   1.46494936e-05]\n",
      " [  1.17103515e-04   6.22412988e-05   8.16817133e-05   5.75881804e-05\n",
      "    4.15907349e-05   3.06107168e-05   2.78050142e-05]\n",
      " [  4.59022245e-05   6.64319701e-05   5.73754460e-05   5.13511520e-05\n",
      "    3.74062403e-05   3.19509280e-05   7.11901096e-06]\n",
      " [  4.75571894e-05   4.05874716e-05   4.40932475e-05   3.21209588e-05\n",
      "    3.13872055e-05   1.07257990e-05   8.45292756e-06]\n",
      " [  1.47923392e-05   3.21746710e-05   1.57925884e-05   2.47167584e-05\n",
      "    8.29562842e-06   9.65150331e-06   1.44907093e-06]]\n"
     ]
    },
    {
     "data": {
      "image/png": "[encoded data removed]",
      "text/plain": [
       "<matplotlib.figure.Figure at 0x1142f0898>"
      ]
     },
     "metadata": {},
     "output_type": "display_data"
    },
    {
     "name": "stdout",
     "output_type": "stream",
     "text": [
      "L1 distance between the mean field estimated momentsand the Gibbs estimates : 0.00778\n"
     ]
    },
    {
     "data": {
      "text/plain": [
       "<matplotlib.figure.Figure at 0x1142a6da0>"
      ]
     },
     "metadata": {},
     "output_type": "display_data"
    }
   ],
   "source": [
    "if __name__ == \"__main__\":\n",
    "    \n",
    "    grid_dims = np.array([7,7])\n",
    "    \n",
    "    n_burn_in_epochs = 1000\n",
    "    n_epochs = 5000\n",
    "    n_rep_stddev = 10\n",
    "    n_rep_mean_field = 10\n",
    "    \n",
    "    ising_gibbs = IsingGibbs(grid_dims)\n",
    "    mean_gibbs = ising_gibbs.gibbs_sampling(n_burn_in_epochs, n_epochs, n_rep_stddev)\n",
    "\n",
    "    ising_mean_field = IsingMeanField(grid_dims)\n",
    "    mean_mean_field = ising_mean_field.mean_field(n_rep_mean_field)\n",
    "    \n",
    "    print(\"L1 distance between the mean field estimated moments\"\n",
    "              \"and the Gibbs estimates : %.5f\" % l1_distance(mean_gibbs, mean_mean_field))\n"
   ]
  }
 ],
 "metadata": {
  "kernelspec": {
   "display_name": "Python 3",
   "language": "python",
   "name": "python3"
  },
  "language_info": {
   "codemirror_mode": {
    "name": "ipython",
    "version": 3
   },
   "file_extension": ".py",
   "mimetype": "text/x-python",
   "name": "python",
   "nbconvert_exporter": "python",
   "pygments_lexer": "ipython3",
   "version": "3.6.2"
  }
 },
 "nbformat": 4,
 "nbformat_minor": 2
}
