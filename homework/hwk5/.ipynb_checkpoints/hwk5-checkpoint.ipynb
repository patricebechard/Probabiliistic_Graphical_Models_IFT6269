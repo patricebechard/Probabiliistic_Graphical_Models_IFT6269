{
 "cells": [
  {
   "cell_type": "markdown",
   "metadata": {},
   "source": [
    "## IFT6269 - Homework 5 - Number 2\n",
    "\n",
    "#### Gibbs sampling and mean field variational inference\n",
    "\n",
    "We consider the Ising model with binary variables $X_s \\in \\{0,1\\}$ and a factorization of the form:\n",
    "\n",
    "$$ p(x;\\eta) = \\frac{1}{Z_p} \\exp \\left( \\sum_{s \\in V} \\eta_s x_s + \\sum_{\\{s,t\\} \\in E} \\eta_{st} x_s x_t \\right) $$\n",
    "\n",
    "We also consider the $7 \\times 7$ 2D grid as shown here :\n",
    "\n",
    "<img src=\"https://i.imgur.com/hvxEFjs.png\" alt=\"Drawing\" style=\"width: 250px;\"/>\n",
    "\n",
    "We will consider approximate inference methods to approximate the node marginal moments $\\mu_s := p(X_s = 1)$ in this model.\n",
    "\n",
    "Below is an implementation of the Gibbs sampling updates and the naife mean field updates for the model. Refer to the paper document for the derivation of both updates.\n"
   ]
  },
  {
   "cell_type": "code",
   "execution_count": 385,
   "metadata": {},
   "outputs": [
    {
     "data": {
      "text/plain": [
       "'\\nAuthor : Patrice Bechard\\nE-mail : bechardpatrice@gmail.com\\nDate created : November 23, 2017\\n'"
      ]
     },
     "execution_count": 385,
     "metadata": {},
     "output_type": "execute_result"
    }
   ],
   "source": [
    "#!/usr/bin/python\n",
    "# -*- coding: utf-8 -*-\n",
    "\"\"\"\n",
    "Author : Patrice Bechard\n",
    "E-mail : bechardpatrice@gmail.com\n",
    "Date created : November 23, 2017\n",
    "\"\"\""
   ]
  },
  {
   "cell_type": "code",
   "execution_count": 386,
   "metadata": {},
   "outputs": [
    {
     "name": "stdout",
     "output_type": "stream",
     "text": [
      "Populating the interactive namespace from numpy and matplotlib\n"
     ]
    }
   ],
   "source": [
    "# importing modules\n",
    "\n",
    "%pylab inline\n",
    "%config IPCompleter.greedy=True #enable autocomplete\n",
    "import numpy as np\n",
    "import matplotlib.pyplot as plt\n",
    "import sys"
   ]
  },
  {
   "cell_type": "code",
   "execution_count": 387,
   "metadata": {
    "collapsed": true
   },
   "outputs": [],
   "source": [
    "class IsingGibbs:\n",
    "    \n",
    "    def __init__(self, grid_dims):    \n",
    "        \"\"\"\n",
    "        Parameters\n",
    "        ----------\n",
    "        grid_dims : array-like, [nx, ny]\n",
    "            dimensions of the grid\n",
    "        \"\"\"\n",
    "        \n",
    "        self.grid_dims = grid_dims\n",
    "        self.n_nodes = np.prod(grid_dims)\n",
    "        \n",
    "        self.grid = np.zeros(self.grid_dims)\n",
    "        \n",
    "        self.eta_nodes = np.array([(-1.)**s for s in range(self.n_nodes)])\n",
    "        self.eta_nodes = np.reshape(self.eta_nodes, self.grid_dims)\n",
    "        self.eta_edges = 0.5                # same for all edges   \n",
    "        \n",
    "    def _random_init_grid(self):\n",
    "        \"\"\" Initializing grid randomly \"\"\"\n",
    "        self.grid = np.random.randint(2, size=self.grid_dims).astype('float32')\n",
    "\n",
    "    def _gibbs_sampling_epoch(self):\n",
    "        \"\"\" \n",
    "        Updating each node of the model once using a Gibbs sampling approach\n",
    "        \"\"\"\n",
    "        \n",
    "        for i in range(self.grid_dims[0]):\n",
    "            for j in range(self.grid_dims[1]):\n",
    "            \n",
    "                node_contrib = self.eta_nodes[i,j]\n",
    "            \n",
    "                neighbors = np.array([[i-1, j],\n",
    "                                     [(i+1)%self.grid_dims[0], j],\n",
    "                                     [i, j-1],\n",
    "                                     [i, (j+1)%self.grid_dims[1]]])\n",
    "                \n",
    "                neighbors_contrib = self.eta_edges * sum([self.grid[k[0],k[1]] \n",
    "                                                          for k in neighbors])\n",
    "\n",
    "                prob = sigmoid(node_contrib + neighbors_contrib)\n",
    "\n",
    "                if np.random.random() < prob:\n",
    "                    self.grid[i,j] = 1\n",
    "                else:\n",
    "                    self.grid[i,j] = 0\n",
    "\n",
    "    def gibbs_sampling(self, n_burn_in_epochs, n_epochs, n_rep_stddev):\n",
    "        \"\"\"\n",
    "        Updating the model to find the mean estimate and its variance \n",
    "        for each node\n",
    "        \n",
    "        Parameters\n",
    "        ----------\n",
    "        n_burn_in_epochs: int\n",
    "            number of epochs for which we perform burn-in\n",
    "        n_epochs: int\n",
    "            number of epochs for which we collect a sample vector\n",
    "            to compute the mean Monte Carlo estimate\n",
    "        n_rep_stddev: int\n",
    "            number of times we repeat the inference using Gibbs Sampling\n",
    "            to have an estimate of the standard deviation of our estimates\n",
    "        \"\"\"\n",
    "        \n",
    "        for rep in range(n_rep_stddev):\n",
    "\n",
    "            #initialize grid randomly\n",
    "            self._random_init_grid()\n",
    "            \n",
    "            # burn-in\n",
    "            for epoch in range(n_burn_in_epochs):\n",
    "                self._gibbs_sampling_epoch()\n",
    "\n",
    "            collection = np.array([])\n",
    "            \n",
    "            # sampling\n",
    "            for epoch in range(n_epochs):\n",
    "                \n",
    "                self._gibbs_sampling_epoch()\n",
    "\n",
    "                if epoch == 0:\n",
    "                    collection = np.expand_dims(self.grid, axis=0)\n",
    "                else:\n",
    "                    collected_sample = np.expand_dims(self.grid, axis=0)\n",
    "                    collection = np.append(collection, \n",
    "                                           collected_sample, \n",
    "                                           axis=0)\n",
    "\n",
    "            mean_estimate = np.sum(collection, axis=0) / n_epochs\n",
    "\n",
    "            if rep == 0:\n",
    "                mean_collection = np.expand_dims(mean_estimate, axis=0)\n",
    "            else:\n",
    "                mean_collection = np.append(mean_collection,\n",
    "                                            np.expand_dims(mean_estimate, axis=0),\n",
    "                                            axis=0)\n",
    "        \n",
    "        stddev_estimate = np.std(mean_collection, axis=0)\n",
    "        \n",
    "        np.savetxt('latex/data/mean_grid_gibbs.txt', mean_estimate, fmt='%.4e')\n",
    "        np.savetxt('latex/data/stddev_grid_gibbs.txt', stddev_estimate, fmt='%.4e')\n",
    "        \n",
    "        print(\"Mean estimate for Gibbs sampling:\")\n",
    "        print(mean_estimate)\n",
    "        plt.imshow(mean_estimate, cmap='viridis', vmin=0., vmax=1.)\n",
    "        plt.colorbar(orientation='vertical')\n",
    "        plt.savefig('latex/figures/mean_gibbs.png')\n",
    "        plt.show()\n",
    "        plt.clf()\n",
    "\n",
    "        print(\"Standard deviation estimate for Gibbs sampling:\")\n",
    "        print(stddev_estimate)\n",
    "        plt.imshow(stddev_estimate, cmap='viridis')\n",
    "        plt.colorbar(orientation='vertical')\n",
    "        plt.savefig('latex/figures/stddev_gibbs.png')\n",
    "        plt.show()\n",
    "        plt.clf()\n",
    "        \n",
    "        return mean_estimate\n",
    "        "
   ]
  },
  {
   "cell_type": "code",
   "execution_count": 388,
   "metadata": {},
   "outputs": [],
   "source": [
    "class IsingMeanField:\n",
    "    \n",
    "    def __init__(self, grid_dims):\n",
    "        \"\"\"\n",
    "        Parameters\n",
    "        ----------\n",
    "        grid_dims : array-like, [nx, ny]\n",
    "            dimensions of the grid\n",
    "        \"\"\"\n",
    "        \n",
    "        self.grid_dims = grid_dims\n",
    "        self.n_nodes = np.prod(grid_dims)\n",
    "        \n",
    "        self.grid = np.zeros(self.grid_dims)\n",
    "        \n",
    "        self.eta_nodes = np.array([(-1.)**s for s in range(self.n_nodes)])\n",
    "        self.eta_nodes = np.reshape(self.eta_nodes, self.grid_dims)\n",
    "        self.eta_edges = 0.5                # same for all edges   \n",
    "    \n",
    "    def _random_init_grid(self):\n",
    "        \"\"\" Initializing grid randomly \"\"\"\n",
    "        self.grid = np.random.random(size=self.grid_dims)\n",
    "    \n",
    "    def _mean_field_epoch(self):\n",
    "        \"\"\" \n",
    "        Updating grid for all nodes once using a variational inference approach\n",
    "        \"\"\"\n",
    "        \n",
    "        for i in range(self.grid_dims[0]):\n",
    "            for j in range(self.grid_dims[1]):\n",
    "            \n",
    "                node_contrib = self.eta_nodes[i,j]\n",
    "            \n",
    "                neighbors = np.array([[i-1, j],\n",
    "                                     [(i+1)%self.grid_dims[0], j],\n",
    "                                     [i, j-1],\n",
    "                                     [i, (j+1)%self.grid_dims[1]]])\n",
    "\n",
    "                neighbors_contrib = self.eta_edges * sum([self.grid[k[0],k[1]] \n",
    "                                                          for k in neighbors])\n",
    "\n",
    "                self.grid[i,j] = sigmoid(node_contrib + neighbors_contrib)\n",
    "    \n",
    "    def mean_field(self, n_rep, stopping_criterion = 0.001):\n",
    "        \"\"\" \n",
    "        Updating grid until convergence and \n",
    "        plotting evolution of KL divergence \n",
    "        \n",
    "        Parameters\n",
    "        ----------\n",
    "        n_rep : int\n",
    "            number of times we initialize a new grid to perform\n",
    "            variational inference on.\n",
    "        stopping_criterion : float\n",
    "            convergence criterion for the L1 distance between\n",
    "            two successive grids after one epoch\n",
    "        \"\"\"\n",
    "        \n",
    "        for rep in range(n_rep):\n",
    "            \n",
    "            self._random_init_grid()\n",
    "            kl_values = np.array([self.kl_divergence()])\n",
    "            \n",
    "            old_grid = np.ones_like(self.grid) * 1e9     #dummy value\n",
    "\n",
    "            while l1_distance(self.grid, old_grid) > stopping_criterion:\n",
    "\n",
    "                old_grid = np.copy(self.grid)\n",
    "\n",
    "                # updating grid\n",
    "                self._mean_field_epoch()\n",
    "\n",
    "                # computing current kl divergence and appending to kl array\n",
    "                kl_values = np.append(kl_values, self.kl_divergence())\n",
    "\n",
    "            print(np.arange(len(kl_values)))\n",
    "            plt.plot(np.arange(len(kl_values)), kl_values)\n",
    "            \n",
    "            if rep == 0:\n",
    "                mean_collection = np.expand_dims(self.grid, axis=0)\n",
    "            else:\n",
    "                mean_collection = np.append(mean_collection,\n",
    "                                            np.expand_dims(self.grid, axis=0),\n",
    "                                            axis=0)\n",
    "        \n",
    "        stddev_estimate = np.std(mean_collection, axis=0)\n",
    "        \n",
    "        np.savetxt('latex/data/mean_grid_mean_field.txt', self.grid, fmt='%.4e')\n",
    "        np.savetxt('latex/data/stddev_grid_mean_field.txt', stddev_estimate, fmt='%.4e')\n",
    "        \n",
    "        print(\"KL divergence for mean field:\")\n",
    "        plt.xlabel('# of epoch')\n",
    "        plt.ylabel('KL divergence')\n",
    "        plt.savefig('latex/figures/kl_div_mean_field.png')\n",
    "        plt.show()\n",
    "        plt.clf()\n",
    "\n",
    "        print(\"Mean estimate for mean field :\")\n",
    "        print(self.grid)\n",
    "        plt.imshow(self.grid, cmap='viridis', vmin=0., vmax=1.)\n",
    "        plt.colorbar(orientation='vertical')\n",
    "        plt.savefig('latex/figures/grid_mean_field.png')\n",
    "        plt.show()\n",
    "        plt.clf()   \n",
    "        \n",
    "        print(\"Standard deviation estimate for mean field:\")\n",
    "        print(stddev_estimate)\n",
    "        plt.imshow(stddev_estimate, cmap='viridis')\n",
    "        plt.colorbar(orientation='vertical')\n",
    "        plt.savefig('latex/figures/stddev_mean_field.png')\n",
    "        plt.show()\n",
    "        plt.clf()\n",
    "        \n",
    "        return self.grid\n",
    "        \n",
    "    def kl_divergence(self):\n",
    "        \"\"\" Computing KL(q||p) - log(Zp)\"\"\"\n",
    "        \n",
    "        # q log q terms\n",
    "        q_log_q_term = np.sum(self.grid * np.log(self.grid) + \\\n",
    "                              (1-self.grid) * np.log(1-self.grid))\n",
    "\n",
    "        # nodes term\n",
    "        nodes_term = np.sum(self.eta_nodes * self.grid)\n",
    "        \n",
    "        #edges term\n",
    "        edges_term = 0\n",
    "        for i in range(self.grid_dims[0]):\n",
    "            for j in range(self.grid_dims[1]):\n",
    "\n",
    "                neighbors = np.array([[i-1, j],\n",
    "                                     [(i+1)%self.grid_dims[0], j],\n",
    "                                     [i, j-1],\n",
    "                                     [i, (j+1)%self.grid_dims[1]]])\n",
    "                \n",
    "                edges_term += self.grid[i,j] * sum([self.grid[k[0],k[1]] for k in neighbors])\n",
    "                \n",
    "        edges_term *= (self.eta_edges / 2)\n",
    "        \n",
    "        return  q_log_q_term - nodes_term - edges_term\n",
    "        \n",
    "        "
   ]
  },
  {
   "cell_type": "code",
   "execution_count": 389,
   "metadata": {
    "collapsed": true
   },
   "outputs": [],
   "source": [
    "def sigmoid(x):\n",
    "    return 1 / (1 + np.exp(-x))"
   ]
  },
  {
   "cell_type": "code",
   "execution_count": 390,
   "metadata": {
    "collapsed": true
   },
   "outputs": [],
   "source": [
    "def l1_distance(x,y):\n",
    "    return np.mean(np.abs(x-y))"
   ]
  },
  {
   "cell_type": "code",
   "execution_count": 391,
   "metadata": {},
   "outputs": [
    {
     "name": "stdout",
     "output_type": "stream",
     "text": [
      "Mean estimate for Gibbs sampling:\n",
      "[[ 0.93620002  0.66420001  0.91500002  0.66000003  0.91540003  0.66060001\n",
      "   0.92479998]\n",
      " [ 0.6652      0.90740001  0.69239998  0.90740001  0.67760003  0.90619999\n",
      "   0.66960001]\n",
      " [ 0.91079998  0.68959999  0.90799999  0.68080002  0.90439999  0.69019997\n",
      "   0.91119999]\n",
      " [ 0.67199999  0.90619999  0.69800001  0.91320002  0.70139998  0.912\n",
      "   0.67500001]\n",
      " [ 0.917       0.68519998  0.90719998  0.69160002  0.91360003  0.69319999\n",
      "   0.92019999]\n",
      " [ 0.67140001  0.90899998  0.6918      0.9084      0.69319999  0.91060001\n",
      "   0.67180002]\n",
      " [ 0.93339998  0.66939998  0.91259998  0.66119999  0.91479999  0.66159999\n",
      "   0.92500001]]\n"
     ]
    },
    {
     "data": {
      "image/png": "[encoded data removed]",
      "text/plain": [
       "<matplotlib.figure.Figure at 0x114521b70>"
      ]
     },
     "metadata": {},
     "output_type": "display_data"
    },
    {
     "name": "stdout",
     "output_type": "stream",
     "text": [
      "Standard deviation estimate for Gibbs sampling:\n",
      "[[ 0.00411092  0.00735489  0.00350891  0.0076398   0.00291507  0.00621109\n",
      "   0.00354039]\n",
      " [ 0.00444774  0.00431833  0.00366938  0.00449928  0.00828588  0.00358335\n",
      "   0.00564725]\n",
      " [ 0.00262481  0.00541169  0.00172987  0.00997279  0.00524247  0.00249159\n",
      "   0.0044666 ]\n",
      " [ 0.00441471  0.00308733  0.00608987  0.00466172  0.00574251  0.00528015\n",
      "   0.00678648]\n",
      " [ 0.00398301  0.00504477  0.00467076  0.00445169  0.00271618  0.00377125\n",
      "   0.00336332]\n",
      " [ 0.00490061  0.00206774  0.00621099  0.00363208  0.00584141  0.00434791\n",
      "   0.00655161]\n",
      " [ 0.00481917  0.00480999  0.00331717  0.0055004   0.00275834  0.00640029\n",
      "   0.00279456]]\n"
     ]
    },
    {
     "data": {
      "image/png": "[encoded data removed]",
      "text/plain": [
       "<matplotlib.figure.Figure at 0x1141a54a8>"
      ]
     },
     "metadata": {},
     "output_type": "display_data"
    },
    {
     "name": "stdout",
     "output_type": "stream",
     "text": [
      "[0 1 2 3 4]\n",
      "[0 1 2 3 4]\n",
      "[0 1 2 3 4 5]\n",
      "[0 1 2 3 4]\n",
      "[0 1 2 3 4]\n",
      "[0 1 2 3 4 5]\n",
      "[0 1 2 3 4 5]\n",
      "[0 1 2 3 4 5]\n",
      "[0 1 2 3 4]\n",
      "[0 1 2 3 4]\n",
      "KL divergence for mean field:\n"
     ]
    },
    {
     "data": {
      "image/png": "[encoded data removed]",
      "text/plain": [
       "<matplotlib.figure.Figure at 0x113d237b8>"
      ]
     },
     "metadata": {},
     "output_type": "display_data"
    },
    {
     "name": "stdout",
     "output_type": "stream",
     "text": [
      "Mean estimate for mean field :\n",
      "[[ 0.93092462  0.67239252  0.92276359  0.67175375  0.9228413   0.67263247\n",
      "   0.93106789]\n",
      " [ 0.67228187  0.9143608   0.69725417  0.91533845  0.69719331  0.91439124\n",
      "   0.6726257 ]\n",
      " [ 0.92268225  0.69716273  0.91622905  0.69664279  0.91618771  0.69716128\n",
      "   0.922856  ]\n",
      " [ 0.67152156  0.91516671  0.69655523  0.91613578  0.69663767  0.91535569\n",
      "   0.67177752]\n",
      " [ 0.92266405  0.69702484  0.91622173  0.69667806  0.91633017  0.69728255\n",
      "   0.92287404]\n",
      " [ 0.67250618  0.9144118   0.69722941  0.91537694  0.69729465  0.91449369\n",
      "   0.67271077]\n",
      " [ 0.93106895  0.67266697  0.92287423  0.67181776  0.92289006  0.67272643\n",
      "   0.93110491]]\n"
     ]
    },
    {
     "data": {
      "image/png": "[encoded data removed]",
      "text/plain": [
       "<matplotlib.figure.Figure at 0x113dc9f28>"
      ]
     },
     "metadata": {},
     "output_type": "display_data"
    },
    {
     "name": "stdout",
     "output_type": "stream",
     "text": [
      "Standard deviation estimate for mean field:\n",
      "[[  8.05335132e-05   1.39070250e-04   6.70450341e-05   1.15331654e-04\n",
      "    6.26630131e-05   5.82089368e-05   1.50080582e-05]\n",
      " [  1.30964306e-04   6.16790066e-05   7.39232040e-05   7.49964886e-05\n",
      "    6.13080288e-05   4.18353570e-05   3.42221129e-05]\n",
      " [  7.49524950e-05   7.98663738e-05   8.03799873e-05   7.45876760e-05\n",
      "    6.67335743e-05   4.63841078e-05   1.63877158e-05]\n",
      " [  1.40974646e-04   8.93938964e-05   9.13374055e-05   7.82431215e-05\n",
      "    5.52542123e-05   3.68573186e-05   3.36043043e-05]\n",
      " [  7.85422730e-05   9.42001484e-05   6.72702403e-05   5.07723222e-05\n",
      "    4.55420075e-05   3.98977911e-05   1.03324322e-05]\n",
      " [  7.66349913e-05   4.46802686e-05   3.98486094e-05   3.42225545e-05\n",
      "    3.82715369e-05   1.37518162e-05   1.26747528e-05]\n",
      " [  1.63917879e-05   3.28982651e-05   1.46649071e-05   2.88353914e-05\n",
      "    9.39616406e-06   1.06758216e-05   1.71650396e-06]]\n"
     ]
    },
    {
     "data": {
      "image/png": "[encoded data removed]",
      "text/plain": [
       "<matplotlib.figure.Figure at 0x114682470>"
      ]
     },
     "metadata": {},
     "output_type": "display_data"
    },
    {
     "ename": "TypeError",
     "evalue": "unsupported operand type(s) for -: 'NoneType' and 'NoneType'",
     "output_type": "error",
     "traceback": [
      "\u001b[0;31m---------------------------------------------------------------------------\u001b[0m",
      "\u001b[0;31mTypeError\u001b[0m                                 Traceback (most recent call last)",
      "\u001b[0;32m<ipython-input-391-eb3e9026144d>\u001b[0m in \u001b[0;36m<module>\u001b[0;34m()\u001b[0m\n\u001b[1;32m     15\u001b[0m \u001b[0;34m\u001b[0m\u001b[0m\n\u001b[1;32m     16\u001b[0m     print(\"L1 distance between the mean field estimated moments\"\n\u001b[0;32m---> 17\u001b[0;31m               \"and the Gibbs estimates : %.5f\" % l1_distance(mean_gibbs, mean_mean_field))\n\u001b[0m",
      "\u001b[0;32m<ipython-input-390-bb0e164b0170>\u001b[0m in \u001b[0;36ml1_distance\u001b[0;34m(x, y)\u001b[0m\n\u001b[1;32m      1\u001b[0m \u001b[0;32mdef\u001b[0m \u001b[0ml1_distance\u001b[0m\u001b[0;34m(\u001b[0m\u001b[0mx\u001b[0m\u001b[0;34m,\u001b[0m\u001b[0my\u001b[0m\u001b[0;34m)\u001b[0m\u001b[0;34m:\u001b[0m\u001b[0;34m\u001b[0m\u001b[0m\n\u001b[0;32m----> 2\u001b[0;31m     \u001b[0;32mreturn\u001b[0m \u001b[0mnp\u001b[0m\u001b[0;34m.\u001b[0m\u001b[0mmean\u001b[0m\u001b[0;34m(\u001b[0m\u001b[0mnp\u001b[0m\u001b[0;34m.\u001b[0m\u001b[0mabs\u001b[0m\u001b[0;34m(\u001b[0m\u001b[0mx\u001b[0m\u001b[0;34m-\u001b[0m\u001b[0my\u001b[0m\u001b[0;34m)\u001b[0m\u001b[0;34m)\u001b[0m\u001b[0;34m\u001b[0m\u001b[0m\n\u001b[0m",
      "\u001b[0;31mTypeError\u001b[0m: unsupported operand type(s) for -: 'NoneType' and 'NoneType'"
     ]
    },
    {
     "data": {
      "text/plain": [
       "<matplotlib.figure.Figure at 0x113d233c8>"
      ]
     },
     "metadata": {},
     "output_type": "display_data"
    }
   ],
   "source": [
    "if __name__ == \"__main__\":\n",
    "    \n",
    "    grid_dims = np.array([7,7])\n",
    "    \n",
    "    n_burn_in_epochs = 1000\n",
    "    n_epochs = 5000\n",
    "    n_rep_stddev = 10\n",
    "    n_rep_mean_field = 10\n",
    "    \n",
    "    ising_gibbs = IsingGibbs(grid_dims)\n",
    "    mean_gibbs = ising_gibbs.gibbs_sampling(n_burn_in_epochs, n_epochs, n_rep_stddev)\n",
    "\n",
    "    ising_mean_field = IsingMeanField(grid_dims)\n",
    "    mean_mean_field = ising_mean_field.mean_field(n_rep_mean_field)\n",
    "    \n",
    "    print(\"L1 distance between the mean field estimated moments\"\n",
    "              \"and the Gibbs estimates : %.5f\" % l1_distance(mean_gibbs, mean_mean_field))\n"
   ]
  }
 ],
 "metadata": {
  "kernelspec": {
   "display_name": "Python 3",
   "language": "python",
   "name": "python3"
  },
  "language_info": {
   "codemirror_mode": {
    "name": "ipython",
    "version": 3
   },
   "file_extension": ".py",
   "mimetype": "text/x-python",
   "name": "python",
   "nbconvert_exporter": "python",
   "pygments_lexer": "ipython3",
   "version": "3.6.2"
  }
 },
 "nbformat": 4,
 "nbformat_minor": 2
}
